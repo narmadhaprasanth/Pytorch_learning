{
  "nbformat": 4,
  "nbformat_minor": 0,
  "metadata": {
    "colab": {
      "name": "pytorch_basics.ipynb",
      "version": "0.3.2",
      "provenance": [],
      "collapsed_sections": [],
      "include_colab_link": true
    },
    "kernelspec": {
      "name": "python3",
      "display_name": "Python 3"
    },
    "accelerator": "GPU"
  },
  "cells": [
    {
      "cell_type": "markdown",
      "metadata": {
        "id": "view-in-github",
        "colab_type": "text"
      },
      "source": [
        "<a href=\"https://colab.research.google.com/github/narmadhaprasanth/Pytorch_learning/blob/master/pytorch_basics.ipynb\" target=\"_parent\"><img src=\"https://colab.research.google.com/assets/colab-badge.svg\" alt=\"Open In Colab\"/></a>"
      ]
    },
    {
      "cell_type": "code",
      "metadata": {
        "id": "RHhkeT6o4k3j",
        "colab_type": "code",
        "colab": {}
      },
      "source": [
        "import torch\n",
        "import matplotlib.pyplot as plt\n",
        "import numpy as np"
      ],
      "execution_count": 0,
      "outputs": []
    },
    {
      "cell_type": "code",
      "metadata": {
        "id": "o0ulVULlNuo5",
        "colab_type": "code",
        "outputId": "90ee4084-dc28-4502-815d-8c1ed8ddd2c1",
        "colab": {
          "base_uri": "https://localhost:8080/",
          "height": 225
        }
      },
      "source": [
        "x = torch.ones(3,3)\n",
        "print(x)\n",
        "x = torch.rand(4,4)\n",
        "print(x)\n",
        "x = torch.zeros(5,5)\n",
        "print(x)"
      ],
      "execution_count": 57,
      "outputs": [
        {
          "output_type": "stream",
          "text": [
            "tensor([[1., 1., 1.],\n",
            "        [1., 1., 1.],\n",
            "        [1., 1., 1.]])\n",
            "tensor([[0.1859, 0.1268, 0.5044, 0.0249],\n",
            "        [0.9927, 0.4840, 0.1964, 0.5392],\n",
            "        [0.7286, 0.4251, 0.8007, 0.4809],\n",
            "        [0.5444, 0.6628, 0.4027, 0.1653]])\n",
            "tensor([[0., 0., 0., 0., 0.],\n",
            "        [0., 0., 0., 0., 0.],\n",
            "        [0., 0., 0., 0., 0.],\n",
            "        [0., 0., 0., 0., 0.],\n",
            "        [0., 0., 0., 0., 0.]])\n"
          ],
          "name": "stdout"
        }
      ]
    },
    {
      "cell_type": "code",
      "metadata": {
        "id": "0uXNSxveN-do",
        "colab_type": "code",
        "outputId": "4688f852-39db-4278-88f9-af4fc31da092",
        "colab": {
          "base_uri": "https://localhost:8080/",
          "height": 86
        }
      },
      "source": [
        "x = torch.empty(2,2)\n",
        "print(x)\n",
        "y = torch.zeros_like(x)\n",
        "print(y)"
      ],
      "execution_count": 58,
      "outputs": [
        {
          "output_type": "stream",
          "text": [
            "tensor([[4.6869e-37, 0.0000e+00],\n",
            "        [4.4842e-44, 0.0000e+00]])\n",
            "tensor([[0., 0.],\n",
            "        [0., 0.]])\n"
          ],
          "name": "stdout"
        }
      ]
    },
    {
      "cell_type": "code",
      "metadata": {
        "id": "JUYFlrMnOG6U",
        "colab_type": "code",
        "outputId": "a3331b77-26ce-4ec2-dc66-205743294610",
        "colab": {
          "base_uri": "https://localhost:8080/",
          "height": 35
        }
      },
      "source": [
        "x = torch.linspace(0,3,5)\n",
        "print(x)"
      ],
      "execution_count": 59,
      "outputs": [
        {
          "output_type": "stream",
          "text": [
            "tensor([0.0000, 0.7500, 1.5000, 2.2500, 3.0000])\n"
          ],
          "name": "stdout"
        }
      ]
    },
    {
      "cell_type": "code",
      "metadata": {
        "id": "R1chOJUuOMIP",
        "colab_type": "code",
        "outputId": "ac1affc1-20ef-4227-9ef3-27bc20ac2356",
        "colab": {
          "base_uri": "https://localhost:8080/",
          "height": 86
        }
      },
      "source": [
        "x = torch.tensor([[1,2],[3,4],[5,6],[7,8]])\n",
        "print(x)"
      ],
      "execution_count": 60,
      "outputs": [
        {
          "output_type": "stream",
          "text": [
            "tensor([[1, 2],\n",
            "        [3, 4],\n",
            "        [5, 6],\n",
            "        [7, 8]])\n"
          ],
          "name": "stdout"
        }
      ]
    },
    {
      "cell_type": "markdown",
      "metadata": {
        "id": "5eRmr_jQOc2C",
        "colab_type": "text"
      },
      "source": [
        "#Slicing tensors"
      ]
    },
    {
      "cell_type": "code",
      "metadata": {
        "id": "HyJIZNjOOVVR",
        "colab_type": "code",
        "outputId": "e6070bb0-82a6-4ec0-f826-098bf2de0c82",
        "colab": {
          "base_uri": "https://localhost:8080/",
          "height": 69
        }
      },
      "source": [
        "print(x.size())\n",
        "print(x[:,1])\n",
        "print(x[0,:])"
      ],
      "execution_count": 61,
      "outputs": [
        {
          "output_type": "stream",
          "text": [
            "torch.Size([4, 2])\n",
            "tensor([2, 4, 6, 8])\n",
            "tensor([1, 2])\n"
          ],
          "name": "stdout"
        }
      ]
    },
    {
      "cell_type": "code",
      "metadata": {
        "id": "VECeQAN-cpqv",
        "colab_type": "code",
        "outputId": "84682c7a-165f-4ddf-e39c-034bccee3663",
        "colab": {
          "base_uri": "https://localhost:8080/",
          "height": 52
        }
      },
      "source": [
        "y = x[1,1]\n",
        "print(y)\n",
        "print(y.item())"
      ],
      "execution_count": 62,
      "outputs": [
        {
          "output_type": "stream",
          "text": [
            "tensor(4)\n",
            "4\n"
          ],
          "name": "stdout"
        }
      ]
    },
    {
      "cell_type": "markdown",
      "metadata": {
        "id": "0JBmkXr-c3Su",
        "colab_type": "text"
      },
      "source": [
        "#Reshaping tensors"
      ]
    },
    {
      "cell_type": "code",
      "metadata": {
        "id": "NeS3rBYXcu4Z",
        "colab_type": "code",
        "outputId": "0d8cf632-5405-4d9d-ad70-e34b14ba8401",
        "colab": {
          "base_uri": "https://localhost:8080/",
          "height": 259
        }
      },
      "source": [
        "print(x)\n",
        "y = x.view(2,4)\n",
        "print(y)\n",
        "y = x.view(8,-1)\n",
        "print(y)"
      ],
      "execution_count": 63,
      "outputs": [
        {
          "output_type": "stream",
          "text": [
            "tensor([[1, 2],\n",
            "        [3, 4],\n",
            "        [5, 6],\n",
            "        [7, 8]])\n",
            "tensor([[1, 2, 3, 4],\n",
            "        [5, 6, 7, 8]])\n",
            "tensor([[1],\n",
            "        [2],\n",
            "        [3],\n",
            "        [4],\n",
            "        [5],\n",
            "        [6],\n",
            "        [7],\n",
            "        [8]])\n"
          ],
          "name": "stdout"
        }
      ]
    },
    {
      "cell_type": "markdown",
      "metadata": {
        "id": "5DzVW43NdP4F",
        "colab_type": "text"
      },
      "source": [
        "#Simple tensor operations"
      ]
    },
    {
      "cell_type": "code",
      "metadata": {
        "id": "d9oHlLzZc_JE",
        "colab_type": "code",
        "outputId": "b3852c0b-31f4-4d73-96ff-01eb36ee7d0f",
        "colab": {
          "base_uri": "https://localhost:8080/",
          "height": 173
        }
      },
      "source": [
        "x = torch.ones(3,2)\n",
        "y = torch.ones(3,2)\n",
        "z = x+y\n",
        "print(z)\n",
        "z = x-y\n",
        "print(z)\n",
        "z = x*y\n",
        "print(z)"
      ],
      "execution_count": 64,
      "outputs": [
        {
          "output_type": "stream",
          "text": [
            "tensor([[2., 2.],\n",
            "        [2., 2.],\n",
            "        [2., 2.]])\n",
            "tensor([[0., 0.],\n",
            "        [0., 0.],\n",
            "        [0., 0.]])\n",
            "tensor([[1., 1.],\n",
            "        [1., 1.],\n",
            "        [1., 1.]])\n"
          ],
          "name": "stdout"
        }
      ]
    },
    {
      "cell_type": "code",
      "metadata": {
        "id": "2k33hvLedgsM",
        "colab_type": "code",
        "outputId": "710c76fd-3ae5-4dab-f081-7753c40d93f9",
        "colab": {
          "base_uri": "https://localhost:8080/",
          "height": 121
        }
      },
      "source": [
        "z = y.add(x)\n",
        "print(y)\n",
        "print(z)"
      ],
      "execution_count": 65,
      "outputs": [
        {
          "output_type": "stream",
          "text": [
            "tensor([[1., 1.],\n",
            "        [1., 1.],\n",
            "        [1., 1.]])\n",
            "tensor([[2., 2.],\n",
            "        [2., 2.],\n",
            "        [2., 2.]])\n"
          ],
          "name": "stdout"
        }
      ]
    },
    {
      "cell_type": "code",
      "metadata": {
        "id": "CJgxMApcdwcU",
        "colab_type": "code",
        "outputId": "151cc46a-ce9b-4d61-9b4e-6bf1ebb2e824",
        "colab": {
          "base_uri": "https://localhost:8080/",
          "height": 121
        }
      },
      "source": [
        "z = y.add_(x) #inplace addition\n",
        "print(y)\n",
        "print(z)"
      ],
      "execution_count": 66,
      "outputs": [
        {
          "output_type": "stream",
          "text": [
            "tensor([[2., 2.],\n",
            "        [2., 2.],\n",
            "        [2., 2.]])\n",
            "tensor([[2., 2.],\n",
            "        [2., 2.],\n",
            "        [2., 2.]])\n"
          ],
          "name": "stdout"
        }
      ]
    },
    {
      "cell_type": "markdown",
      "metadata": {
        "id": "VaRfTpRNjDbQ",
        "colab_type": "text"
      },
      "source": [
        "#pytorch <>numpy"
      ]
    },
    {
      "cell_type": "code",
      "metadata": {
        "id": "dnk6ZS8rjD9-",
        "colab_type": "code",
        "outputId": "001011ad-ae9b-4d09-ecb5-3ef3737ce723",
        "colab": {
          "base_uri": "https://localhost:8080/",
          "height": 69
        }
      },
      "source": [
        "x_np = x.numpy()\n",
        "print(x_np)"
      ],
      "execution_count": 67,
      "outputs": [
        {
          "output_type": "stream",
          "text": [
            "[[1. 1.]\n",
            " [1. 1.]\n",
            " [1. 1.]]\n"
          ],
          "name": "stdout"
        }
      ]
    },
    {
      "cell_type": "code",
      "metadata": {
        "id": "doTH3GPUd1BY",
        "colab_type": "code",
        "outputId": "05d38469-b729-4f1d-953e-f05c40b90293",
        "colab": {
          "base_uri": "https://localhost:8080/",
          "height": 86
        }
      },
      "source": [
        "py_x = torch.from_numpy(x_np)\n",
        "print(py_x)\n",
        "print(type(py_x), type(x_np))"
      ],
      "execution_count": 68,
      "outputs": [
        {
          "output_type": "stream",
          "text": [
            "tensor([[1., 1.],\n",
            "        [1., 1.],\n",
            "        [1., 1.]])\n",
            "<class 'torch.Tensor'> <class 'numpy.ndarray'>\n"
          ],
          "name": "stdout"
        }
      ]
    },
    {
      "cell_type": "code",
      "metadata": {
        "id": "7aRxYG94jXPP",
        "colab_type": "code",
        "outputId": "147f5ada-4a15-43cc-b099-f3a1359216ef",
        "colab": {
          "base_uri": "https://localhost:8080/",
          "height": 35
        }
      },
      "source": [
        "a = np.random.randn(5)\n",
        "py_a = torch.from_numpy(a)\n",
        "print(type(a), type(py_a))"
      ],
      "execution_count": 69,
      "outputs": [
        {
          "output_type": "stream",
          "text": [
            "<class 'numpy.ndarray'> <class 'torch.Tensor'>\n"
          ],
          "name": "stdout"
        }
      ]
    },
    {
      "cell_type": "code",
      "metadata": {
        "id": "0jGlACIJjp0z",
        "colab_type": "code",
        "outputId": "c7fae3df-f9d9-44bc-eadf-25cef12f2989",
        "colab": {
          "base_uri": "https://localhost:8080/",
          "height": 52
        }
      },
      "source": [
        "np.add(a,1,out=a)\n",
        "print(a)\n",
        "print(py_a)"
      ],
      "execution_count": 70,
      "outputs": [
        {
          "output_type": "stream",
          "text": [
            "[ 1.3865864   1.66224166 -0.10271187  2.40781628  3.46543148]\n",
            "tensor([ 1.3866,  1.6622, -0.1027,  2.4078,  3.4654], dtype=torch.float64)\n"
          ],
          "name": "stdout"
        }
      ]
    },
    {
      "cell_type": "code",
      "metadata": {
        "id": "cPsjfuhBj2Eq",
        "colab_type": "code",
        "outputId": "798d9991-8124-4850-bc13-06d2830a38da",
        "colab": {
          "base_uri": "https://localhost:8080/",
          "height": 52
        }
      },
      "source": [
        "%%time\n",
        "for i in range(100):\n",
        "  a = np.random.randn(100,100)\n",
        "  b = np.random.randn(100,100)\n",
        "  c = a+b"
      ],
      "execution_count": 71,
      "outputs": [
        {
          "output_type": "stream",
          "text": [
            "CPU times: user 84.3 ms, sys: 0 ns, total: 84.3 ms\n",
            "Wall time: 95.9 ms\n"
          ],
          "name": "stdout"
        }
      ]
    },
    {
      "cell_type": "code",
      "metadata": {
        "id": "fjQxK-Cikbje",
        "colab_type": "code",
        "outputId": "7a955464-049e-4d1c-8454-1d6263c1c36e",
        "colab": {
          "base_uri": "https://localhost:8080/",
          "height": 52
        }
      },
      "source": [
        "%%time\n",
        "for i in range(100):\n",
        "  a = torch.randn([100,100])\n",
        "  b = torch.randn([100,100])\n",
        "  c = a+b"
      ],
      "execution_count": 72,
      "outputs": [
        {
          "output_type": "stream",
          "text": [
            "CPU times: user 18.7 ms, sys: 864 µs, total: 19.5 ms\n",
            "Wall time: 21.9 ms\n"
          ],
          "name": "stdout"
        }
      ]
    },
    {
      "cell_type": "code",
      "metadata": {
        "id": "U0US9XdclV8T",
        "colab_type": "code",
        "outputId": "ea682086-bb79-4cd9-cc3c-f6f3380da088",
        "colab": {
          "base_uri": "https://localhost:8080/",
          "height": 52
        }
      },
      "source": [
        "%%time\n",
        "for i in range(10):\n",
        "  a = np.random.randn(100,100)\n",
        "  b = np.random.randn(100,100)\n",
        "  c = a+b"
      ],
      "execution_count": 73,
      "outputs": [
        {
          "output_type": "stream",
          "text": [
            "CPU times: user 9.57 ms, sys: 0 ns, total: 9.57 ms\n",
            "Wall time: 11.2 ms\n"
          ],
          "name": "stdout"
        }
      ]
    },
    {
      "cell_type": "code",
      "metadata": {
        "id": "HCgSaNuIkmdW",
        "colab_type": "code",
        "outputId": "0d785d7c-bfff-4632-d502-5704bd9db232",
        "colab": {
          "base_uri": "https://localhost:8080/",
          "height": 52
        }
      },
      "source": [
        "%%time\n",
        "for i in range(10):\n",
        "  a = torch.randn([10000,10000])\n",
        "  b = torch.randn([10000,10000])\n",
        "  c = a+b"
      ],
      "execution_count": 74,
      "outputs": [
        {
          "output_type": "stream",
          "text": [
            "CPU times: user 18.6 s, sys: 191 ms, total: 18.8 s\n",
            "Wall time: 18.8 s\n"
          ],
          "name": "stdout"
        }
      ]
    },
    {
      "cell_type": "markdown",
      "metadata": {
        "id": "LOh8m7a9_qv4",
        "colab_type": "text"
      },
      "source": [
        "#CUDA support\n"
      ]
    },
    {
      "cell_type": "code",
      "metadata": {
        "id": "8HnMibQblHUg",
        "colab_type": "code",
        "colab": {
          "base_uri": "https://localhost:8080/",
          "height": 35
        },
        "outputId": "f97118dd-b509-47ec-885a-f4d2bc965b2b"
      },
      "source": [
        "print(torch.cuda.device_count())"
      ],
      "execution_count": 75,
      "outputs": [
        {
          "output_type": "stream",
          "text": [
            "1\n"
          ],
          "name": "stdout"
        }
      ]
    },
    {
      "cell_type": "markdown",
      "metadata": {
        "id": "g2BACkjn__68",
        "colab_type": "text"
      },
      "source": [
        "#how to add cuda\n",
        "edit->notebook settings->hardware accelerator->GPU->save"
      ]
    },
    {
      "cell_type": "code",
      "metadata": {
        "id": "0RpeoVYq_xdd",
        "colab_type": "code",
        "colab": {
          "base_uri": "https://localhost:8080/",
          "height": 52
        },
        "outputId": "a496c83b-2f8d-4446-bda2-304a6954dc8d"
      },
      "source": [
        "print(torch.cuda.device(0))\n",
        "print(torch.cuda.get_device_name(0))"
      ],
      "execution_count": 76,
      "outputs": [
        {
          "output_type": "stream",
          "text": [
            "<torch.cuda.device object at 0x7fe6943273c8>\n",
            "Tesla T4\n"
          ],
          "name": "stdout"
        }
      ]
    },
    {
      "cell_type": "code",
      "metadata": {
        "id": "BQakNol6Aw2N",
        "colab_type": "code",
        "colab": {}
      },
      "source": [
        "cuda0 = torch.device(\"cuda:0\")"
      ],
      "execution_count": 0,
      "outputs": []
    },
    {
      "cell_type": "code",
      "metadata": {
        "id": "BvwGrbEeA2mN",
        "colab_type": "code",
        "colab": {
          "base_uri": "https://localhost:8080/",
          "height": 121
        },
        "outputId": "5d448244-3405-400b-8376-f14042d4cce1"
      },
      "source": [
        "a = torch.ones(2,4,device=cuda0)\n",
        "b = torch.ones(2,4,device=cuda0)\n",
        "c = a+b\n",
        "print(a)\n",
        "print(b)\n",
        "print(c)"
      ],
      "execution_count": 78,
      "outputs": [
        {
          "output_type": "stream",
          "text": [
            "tensor([[1., 1., 1., 1.],\n",
            "        [1., 1., 1., 1.]], device='cuda:0')\n",
            "tensor([[1., 1., 1., 1.],\n",
            "        [1., 1., 1., 1.]], device='cuda:0')\n",
            "tensor([[2., 2., 2., 2.],\n",
            "        [2., 2., 2., 2.]], device='cuda:0')\n"
          ],
          "name": "stdout"
        }
      ]
    },
    {
      "cell_type": "code",
      "metadata": {
        "id": "FfmVhzIhBDK6",
        "colab_type": "code",
        "colab": {
          "base_uri": "https://localhost:8080/",
          "height": 52
        },
        "outputId": "f781d2ed-3932-4b3a-f863-95d19517f0eb"
      },
      "source": [
        "%%time\n",
        "for i in range(10):\n",
        "  a = torch.randn(10000,10000,device=cuda0)\n",
        "  b = torch.randn(10000,10000,device=cuda0)\n",
        "  c = a+b"
      ],
      "execution_count": 79,
      "outputs": [
        {
          "output_type": "stream",
          "text": [
            "CPU times: user 1.08 ms, sys: 9 µs, total: 1.09 ms\n",
            "Wall time: 1.29 ms\n"
          ],
          "name": "stdout"
        }
      ]
    },
    {
      "cell_type": "markdown",
      "metadata": {
        "id": "Z6XU0hlUIVZf",
        "colab_type": "text"
      },
      "source": [
        "#Autograd"
      ]
    },
    {
      "cell_type": "code",
      "metadata": {
        "id": "U0t5f5VJBRcc",
        "colab_type": "code",
        "colab": {
          "base_uri": "https://localhost:8080/",
          "height": 69
        },
        "outputId": "bc7eae80-c0dd-44f2-8674-bdf677137b00"
      },
      "source": [
        "x = torch.ones([3,3], requires_grad=True)\n",
        "print(x)"
      ],
      "execution_count": 80,
      "outputs": [
        {
          "output_type": "stream",
          "text": [
            "tensor([[1., 1., 1.],\n",
            "        [1., 1., 1.],\n",
            "        [1., 1., 1.]], requires_grad=True)\n"
          ],
          "name": "stdout"
        }
      ]
    },
    {
      "cell_type": "code",
      "metadata": {
        "id": "vui-IE5sIdrQ",
        "colab_type": "code",
        "colab": {
          "base_uri": "https://localhost:8080/",
          "height": 69
        },
        "outputId": "a8507526-a6b6-4145-9ba8-3dd2423b73e6"
      },
      "source": [
        "y = x+5\n",
        "print(y)"
      ],
      "execution_count": 81,
      "outputs": [
        {
          "output_type": "stream",
          "text": [
            "tensor([[6., 6., 6.],\n",
            "        [6., 6., 6.],\n",
            "        [6., 6., 6.]], grad_fn=<AddBackward0>)\n"
          ],
          "name": "stdout"
        }
      ]
    },
    {
      "cell_type": "code",
      "metadata": {
        "id": "3or9jpW5Igoc",
        "colab_type": "code",
        "colab": {
          "base_uri": "https://localhost:8080/",
          "height": 69
        },
        "outputId": "cd5395cc-4c1d-4572-b01f-ff69b6ae49f7"
      },
      "source": [
        "z = y*y + 1\n",
        "print(z)"
      ],
      "execution_count": 82,
      "outputs": [
        {
          "output_type": "stream",
          "text": [
            "tensor([[37., 37., 37.],\n",
            "        [37., 37., 37.],\n",
            "        [37., 37., 37.]], grad_fn=<AddBackward0>)\n"
          ],
          "name": "stdout"
        }
      ]
    },
    {
      "cell_type": "code",
      "metadata": {
        "id": "xk5vxeJUIjtP",
        "colab_type": "code",
        "colab": {
          "base_uri": "https://localhost:8080/",
          "height": 35
        },
        "outputId": "777ae795-cad7-43ec-b769-6f91cf3f51f1"
      },
      "source": [
        "t = torch.sum(z)\n",
        "print(t)"
      ],
      "execution_count": 83,
      "outputs": [
        {
          "output_type": "stream",
          "text": [
            "tensor(333., grad_fn=<SumBackward0>)\n"
          ],
          "name": "stdout"
        }
      ]
    },
    {
      "cell_type": "code",
      "metadata": {
        "id": "Ow0Ky4TCIp7o",
        "colab_type": "code",
        "colab": {}
      },
      "source": [
        "t.backward()"
      ],
      "execution_count": 0,
      "outputs": []
    },
    {
      "cell_type": "code",
      "metadata": {
        "id": "Im1SWAQYIvpQ",
        "colab_type": "code",
        "colab": {
          "base_uri": "https://localhost:8080/",
          "height": 69
        },
        "outputId": "3d141999-5b81-4cf3-f398-062059c94a59"
      },
      "source": [
        "print(x.grad)"
      ],
      "execution_count": 85,
      "outputs": [
        {
          "output_type": "stream",
          "text": [
            "tensor([[12., 12., 12.],\n",
            "        [12., 12., 12.],\n",
            "        [12., 12., 12.]])\n"
          ],
          "name": "stdout"
        }
      ]
    },
    {
      "cell_type": "code",
      "metadata": {
        "id": "eQTphNP3I3ND",
        "colab_type": "code",
        "colab": {
          "base_uri": "https://localhost:8080/",
          "height": 138
        },
        "outputId": "40f76a8a-b765-4f16-886e-0ac5e45d9dc1"
      },
      "source": [
        "x = torch.ones([3,2], requires_grad=True)\n",
        "y = x+5\n",
        "r = 1/(1+torch.exp(-y))\n",
        "print(r)\n",
        "s = torch.sum(r)\n",
        "print(s)\n",
        "s.backward()\n",
        "print(x.grad)"
      ],
      "execution_count": 86,
      "outputs": [
        {
          "output_type": "stream",
          "text": [
            "tensor([[0.9975, 0.9975],\n",
            "        [0.9975, 0.9975],\n",
            "        [0.9975, 0.9975]], grad_fn=<MulBackward0>)\n",
            "tensor(5.9852, grad_fn=<SumBackward0>)\n",
            "tensor([[0.0025, 0.0025],\n",
            "        [0.0025, 0.0025],\n",
            "        [0.0025, 0.0025]])\n"
          ],
          "name": "stdout"
        }
      ]
    },
    {
      "cell_type": "code",
      "metadata": {
        "id": "NT8lTjjuL0wZ",
        "colab_type": "code",
        "colab": {
          "base_uri": "https://localhost:8080/",
          "height": 69
        },
        "outputId": "de5255d5-b541-4e16-f8d4-6112b8b60a34"
      },
      "source": [
        "x = torch.ones([3,2], requires_grad=True)\n",
        "y = x+5\n",
        "r = 1/(1+torch.exp(-y))\n",
        "a = torch.ones([3,2])\n",
        "r.backward(a)\n",
        "print(x.grad)"
      ],
      "execution_count": 87,
      "outputs": [
        {
          "output_type": "stream",
          "text": [
            "tensor([[0.0025, 0.0025],\n",
            "        [0.0025, 0.0025],\n",
            "        [0.0025, 0.0025]])\n"
          ],
          "name": "stdout"
        }
      ]
    },
    {
      "cell_type": "markdown",
      "metadata": {
        "id": "Cp3nGiEONMl0",
        "colab_type": "text"
      },
      "source": [
        "#Autograd example that looks like what we have been doing"
      ]
    },
    {
      "cell_type": "code",
      "metadata": {
        "id": "HVBtwNvSMvtT",
        "colab_type": "code",
        "colab": {}
      },
      "source": [
        "x = torch.randn([20,1], requires_grad=True)\n",
        "y = 3*x - 2"
      ],
      "execution_count": 0,
      "outputs": []
    },
    {
      "cell_type": "code",
      "metadata": {
        "id": "ZxKIAxo7NZla",
        "colab_type": "code",
        "colab": {}
      },
      "source": [
        "w = torch.tensor([1.], requires_grad=True)\n",
        "b = torch.tensor([1.], requires_grad=True)\n",
        "\n",
        "y_hat = w*x + b\n",
        "loss = torch.sum((y_hat - y)**2)"
      ],
      "execution_count": 0,
      "outputs": []
    },
    {
      "cell_type": "code",
      "metadata": {
        "id": "suOguiE-NzC-",
        "colab_type": "code",
        "colab": {
          "base_uri": "https://localhost:8080/",
          "height": 35
        },
        "outputId": "bb744507-f30e-4d2f-e981-b56c5c373e49"
      },
      "source": [
        "print(loss)"
      ],
      "execution_count": 90,
      "outputs": [
        {
          "output_type": "stream",
          "text": [
            "tensor(210.7475, grad_fn=<SumBackward0>)\n"
          ],
          "name": "stdout"
        }
      ]
    },
    {
      "cell_type": "code",
      "metadata": {
        "id": "Po0cIjJsN2Ds",
        "colab_type": "code",
        "colab": {}
      },
      "source": [
        "loss.backward()\n"
      ],
      "execution_count": 0,
      "outputs": []
    },
    {
      "cell_type": "code",
      "metadata": {
        "id": "PJAtmnhROCjR",
        "colab_type": "code",
        "colab": {
          "base_uri": "https://localhost:8080/",
          "height": 35
        },
        "outputId": "baf8cb71-b75b-4a3e-d265-2ebfce5ececa"
      },
      "source": [
        "print(w.grad, b.grad)"
      ],
      "execution_count": 92,
      "outputs": [
        {
          "output_type": "stream",
          "text": [
            "tensor([-54.9799]) tensor([103.8451])\n"
          ],
          "name": "stdout"
        }
      ]
    },
    {
      "cell_type": "markdown",
      "metadata": {
        "id": "_x94SVYbOzYe",
        "colab_type": "text"
      },
      "source": [
        "#Do it in loop"
      ]
    },
    {
      "cell_type": "code",
      "metadata": {
        "id": "QtacXGhNOFGL",
        "colab_type": "code",
        "colab": {}
      },
      "source": [
        "learning_rate = 0.01"
      ],
      "execution_count": 0,
      "outputs": []
    },
    {
      "cell_type": "code",
      "metadata": {
        "id": "zFGUdppvO5J8",
        "colab_type": "code",
        "colab": {}
      },
      "source": [
        "w = torch.tensor([1.],requires_grad = True)\n",
        "b = torch.tensor([1.],requires_grad = True)"
      ],
      "execution_count": 0,
      "outputs": []
    },
    {
      "cell_type": "code",
      "metadata": {
        "id": "T7i3KmHHPAzp",
        "colab_type": "code",
        "colab": {
          "base_uri": "https://localhost:8080/",
          "height": 35
        },
        "outputId": "28e6ab7d-9d59-4422-aa59-edd9f4f279bc"
      },
      "source": [
        "print(w.item(), b.item())"
      ],
      "execution_count": 95,
      "outputs": [
        {
          "output_type": "stream",
          "text": [
            "1.0 1.0\n"
          ],
          "name": "stdout"
        }
      ]
    },
    {
      "cell_type": "code",
      "metadata": {
        "id": "w-XywCdLPGoU",
        "colab_type": "code",
        "colab": {
          "base_uri": "https://localhost:8080/",
          "height": 190
        },
        "outputId": "5598ec96-ad45-4c0b-f0d6-3ba6dc2542a6"
      },
      "source": [
        "for i in range(10):\n",
        "  x = torch.randn([20,1])\n",
        "  y = 3*x - 2\n",
        "  \n",
        "  y_hat = w*x + b\n",
        "  loss = torch.sum((y_hat-y)**2)\n",
        "  \n",
        "  loss.backward()\n",
        "  \n",
        "  with torch.no_grad():\n",
        "    w -= learning_rate*w.grad\n",
        "    b -= learning_rate*b.grad\n",
        "    \n",
        "    w.grad.zero_()\n",
        "    b.grad.zero_()\n",
        "    \n",
        "  print(w.item(),b.item())"
      ],
      "execution_count": 96,
      "outputs": [
        {
          "output_type": "stream",
          "text": [
            "1.7647953033447266 -0.14572405815124512\n",
            "2.280285120010376 -0.8140975832939148\n",
            "2.4862117767333984 -1.256675124168396\n",
            "2.658869504928589 -1.5199170112609863\n",
            "2.6900086402893066 -1.6793675422668457\n",
            "2.8360300064086914 -1.8489347696304321\n",
            "2.8963890075683594 -1.9188742637634277\n",
            "2.949171543121338 -1.94428551197052\n",
            "2.959017753601074 -1.9612728357315063\n",
            "2.9796953201293945 -1.9773904085159302\n"
          ],
          "name": "stdout"
        }
      ]
    },
    {
      "cell_type": "markdown",
      "metadata": {
        "id": "6o7bUrjiSogl",
        "colab_type": "text"
      },
      "source": [
        "#Do it for larger problem"
      ]
    },
    {
      "cell_type": "code",
      "metadata": {
        "id": "UIcJmKOwSEcc",
        "colab_type": "code",
        "colab": {
          "base_uri": "https://localhost:8080/",
          "height": 69
        },
        "outputId": "f5136a9d-3cbd-45aa-f7c3-7b0677bc075c"
      },
      "source": [
        "%%time\n",
        "learning_rate = 0.001\n",
        "N =1000000\n",
        "epochs = 200\n",
        "\n",
        "w = torch.randn([N], requires_grad = True)\n",
        "b = torch.randn([1], requires_grad = True)\n",
        "\n",
        "print(torch.mean(w).item(), b.item())\n",
        "\n",
        "for i in range(epochs):\n",
        "  x = torch.randn([N], requires_grad=True)\n",
        "  y = torch.dot(3*torch.ones([N]), x) -2\n",
        "  \n",
        "  y_hat = torch.dot(w,x) + b\n",
        "  loss = torch.sum((y_hat-y)**2)\n",
        "  \n",
        "  loss.backward()\n",
        "  \n",
        "  with torch.no_grad():\n",
        "    w -= learning_rate*w.grad\n",
        "    b -= learning_rate*b.grad\n",
        "    \n",
        "    w.grad.zero_()\n",
        "    b.grad.zero_()\n",
        "    \n",
        "  #print(torch.mean(w).item(), b.item())"
      ],
      "execution_count": 102,
      "outputs": [
        {
          "output_type": "stream",
          "text": [
            "0.0004070353461429477 -0.7379459738731384\n",
            "CPU times: user 3.9 s, sys: 568 ms, total: 4.47 s\n",
            "Wall time: 4.5 s\n"
          ],
          "name": "stdout"
        }
      ]
    },
    {
      "cell_type": "code",
      "metadata": {
        "id": "TQlP8rgbucUx",
        "colab_type": "code",
        "colab": {
          "base_uri": "https://localhost:8080/",
          "height": 69
        },
        "outputId": "76f5bd16-8690-48f9-99ac-f56620359471"
      },
      "source": [
        "%%time\n",
        "learning_rate = 0.001\n",
        "N =1000000\n",
        "epochs = 200\n",
        "\n",
        "w = torch.randn([N], requires_grad = True, device=cuda0)\n",
        "b = torch.randn([1], requires_grad = True, device=cuda0)\n",
        "\n",
        "print(torch.mean(w).item(), b.item())\n",
        "\n",
        "for i in range(epochs):\n",
        "  x = torch.randn([N], requires_grad=True, device=cuda0)\n",
        "  y = torch.dot(3*torch.ones([N], device=cuda0), x) -2\n",
        "  \n",
        "  y_hat = torch.dot(w,x) + b\n",
        "  loss = torch.sum((y_hat-y)**2)\n",
        "  \n",
        "  loss.backward()\n",
        "  \n",
        "  with torch.no_grad():\n",
        "    w -= learning_rate*w.grad\n",
        "    b -= learning_rate*b.grad\n",
        "    \n",
        "    w.grad.zero_()\n",
        "    b.grad.zero_()\n",
        "    \n",
        "  #print(torch.mean(w).item(), b.item())"
      ],
      "execution_count": 101,
      "outputs": [
        {
          "output_type": "stream",
          "text": [
            "0.0019629052840173244 -0.8159432411193848\n",
            "CPU times: user 172 ms, sys: 51.4 ms, total: 223 ms\n",
            "Wall time: 229 ms\n"
          ],
          "name": "stdout"
        }
      ]
    },
    {
      "cell_type": "code",
      "metadata": {
        "id": "spXk-zVRSugX",
        "colab_type": "code",
        "colab": {}
      },
      "source": [
        ""
      ],
      "execution_count": 0,
      "outputs": []
    }
  ]
}